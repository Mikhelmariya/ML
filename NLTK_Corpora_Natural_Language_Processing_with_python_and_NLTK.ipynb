{
  "cells": [
    {
      "cell_type": "markdown",
      "metadata": {
        "id": "view-in-github",
        "colab_type": "text"
      },
      "source": [
        "<a href=\"https://colab.research.google.com/github/Mikhelmariya/ML/blob/main/NLTK_Corpora_Natural_Language_Processing_with_python_and_NLTK.ipynb\" target=\"_parent\"><img src=\"https://colab.research.google.com/assets/colab-badge.svg\" alt=\"Open In Colab\"/></a>"
      ]
    },
    {
      "cell_type": "code",
      "source": [
        "import nltk\n",
        "nltk.download('punkt') #for tokenizing\n",
        "nltk.download('gutenberg') #Text document\n",
        "from nltk.tokenize import sent_tokenize,PunktSentenceTokenizer\n",
        "from nltk.corpus import gutenberg\n",
        "\n"
      ],
      "metadata": {
        "colab": {
          "base_uri": "https://localhost:8080/"
        },
        "id": "GSUcLuzR2Ien",
        "outputId": "05e9e17b-8ea4-43d8-bdc4-de48b38d1bb1"
      },
      "execution_count": 6,
      "outputs": [
        {
          "output_type": "stream",
          "name": "stderr",
          "text": [
            "[nltk_data] Downloading package punkt to /root/nltk_data...\n",
            "[nltk_data]   Package punkt is already up-to-date!\n",
            "[nltk_data] Downloading package gutenberg to /root/nltk_data...\n",
            "[nltk_data]   Package gutenberg is already up-to-date!\n"
          ]
        }
      ]
    },
    {
      "cell_type": "code",
      "source": [
        "#To view the python directory where your nltk is located, follow the code below\n",
        "print(nltk.__file__)\n"
      ],
      "metadata": {
        "colab": {
          "base_uri": "https://localhost:8080/"
        },
        "id": "_MpfiSX8FqQv",
        "outputId": "cc96ad43-ad7a-4de4-93e4-0716a85ad573"
      },
      "execution_count": 9,
      "outputs": [
        {
          "output_type": "stream",
          "name": "stdout",
          "text": [
            "/usr/local/lib/python3.7/dist-packages/nltk/__init__.py\n"
          ]
        }
      ]
    },
    {
      "cell_type": "code",
      "source": [
        "#displaying sample text\n",
        "sample_text=gutenberg.raw(\"bible-kjv.txt\")\n",
        "tokenized= sent_tokenize(sample_text) \n",
        "\n",
        "for x in range(4):  # x is an iterating variable\n",
        "    print(tokenized[x]) #printing tokenized sentences"
      ],
      "metadata": {
        "colab": {
          "base_uri": "https://localhost:8080/"
        },
        "id": "11hSZfeQ7OVA",
        "outputId": "babb416d-6d1e-4223-88e1-06995814bbcb"
      },
      "execution_count": 8,
      "outputs": [
        {
          "output_type": "stream",
          "name": "stdout",
          "text": [
            "[The King James Bible]\n",
            "\n",
            "The Old Testament of the King James Bible\n",
            "\n",
            "The First Book of Moses:  Called Genesis\n",
            "\n",
            "\n",
            "1:1 In the beginning God created the heaven and the earth.\n",
            "1:2 And the earth was without form, and void; and darkness was upon\n",
            "the face of the deep.\n",
            "And the Spirit of God moved upon the face of the\n",
            "waters.\n",
            "1:3 And God said, Let there be light: and there was light.\n"
          ]
        }
      ]
    }
  ],
  "metadata": {
    "colab": {
      "provenance": [],
      "collapsed_sections": [],
      "authorship_tag": "ABX9TyNG/lDOk1YiU5BCsJ+z8xCs",
      "include_colab_link": true
    },
    "kernelspec": {
      "display_name": "Python 3",
      "name": "python3"
    },
    "language_info": {
      "name": "python"
    }
  },
  "nbformat": 4,
  "nbformat_minor": 0
}