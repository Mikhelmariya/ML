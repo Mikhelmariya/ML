{
  "nbformat": 4,
  "nbformat_minor": 0,
  "metadata": {
    "colab": {
      "provenance": [],
      "collapsed_sections": [],
      "authorship_tag": "ABX9TyMrg8szxKzoIJEn/gE8Im/B",
      "include_colab_link": true
    },
    "kernelspec": {
      "name": "python3",
      "display_name": "Python 3"
    },
    "language_info": {
      "name": "python"
    }
  },
  "cells": [
    {
      "cell_type": "markdown",
      "metadata": {
        "id": "view-in-github",
        "colab_type": "text"
      },
      "source": [
        "<a href=\"https://colab.research.google.com/github/Mikhelmariya/ML/blob/main/Stemming_NLP_with_python_and_NLTK.ipynb\" target=\"_parent\"><img src=\"https://colab.research.google.com/assets/colab-badge.svg\" alt=\"Open In Colab\"/></a>"
      ]
    },
    {
      "cell_type": "code",
      "source": [
        "#import nltk\n",
        "import nltk\n"
      ],
      "metadata": {
        "id": "sfyy2l2ptgPZ"
      },
      "execution_count": 3,
      "outputs": []
    },
    {
      "cell_type": "code",
      "source": [
        "# download the package stemming from nltk\n",
        "nltk.download('Stemming')"
      ],
      "metadata": {
        "colab": {
          "base_uri": "https://localhost:8080/"
        },
        "id": "nOouZRh5r_vj",
        "outputId": "ac76271e-86b8-4ed2-8ee8-74d6c34c9ab8"
      },
      "execution_count": 2,
      "outputs": [
        {
          "output_type": "stream",
          "name": "stderr",
          "text": [
            "[nltk_data] Error loading Stemming: Package 'Stemming' not found in\n",
            "[nltk_data]     index\n"
          ]
        },
        {
          "output_type": "execute_result",
          "data": {
            "text/plain": [
              "False"
            ]
          },
          "metadata": {},
          "execution_count": 2
        }
      ]
    },
    {
      "cell_type": "code",
      "source": [
        "#using porter stemmer algorithm from nltk.stem package\n",
        "from nltk.stem import PorterStemmer\n",
        "ps = PorterStemmer()\n"
      ],
      "metadata": {
        "id": "lE1_8EsWyhgI",
        "colab": {
          "base_uri": "https://localhost:8080/"
        },
        "outputId": "f1981e41-88ef-4d7c-dca5-5d5f8b6bf9b7"
      },
      "execution_count": 5,
      "outputs": [
        {
          "output_type": "stream",
          "name": "stdout",
          "text": [
            "<PorterStemmer>\n"
          ]
        }
      ]
    },
    {
      "cell_type": "code",
      "source": [
        "# Working of PorterStemmer Algorithm .\n",
        "# Here 'eating'and 'eat's'  is converted  to eat after stemming\n",
        "example_words=['eats','eat','eating']\n",
        "for w in example_words:\n",
        "    print(ps.stem(w))"
      ],
      "metadata": {
        "colab": {
          "base_uri": "https://localhost:8080/"
        },
        "id": "TbzimkqFytP0",
        "outputId": "8861323c-8cbe-4342-eac1-3683bb9a11d2"
      },
      "execution_count": 6,
      "outputs": [
        {
          "output_type": "stream",
          "name": "stdout",
          "text": [
            "eat\n",
            "eat\n",
            "eat\n"
          ]
        }
      ]
    }
  ]
}