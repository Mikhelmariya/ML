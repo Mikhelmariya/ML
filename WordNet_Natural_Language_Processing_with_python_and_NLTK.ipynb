{
  "nbformat": 4,
  "nbformat_minor": 0,
  "metadata": {
    "colab": {
      "provenance": [],
      "collapsed_sections": [],
      "authorship_tag": "ABX9TyOrttUQYet+gO3zYvI4ZfEt",
      "include_colab_link": true
    },
    "kernelspec": {
      "name": "python3",
      "display_name": "Python 3"
    },
    "language_info": {
      "name": "python"
    }
  },
  "cells": [
    {
      "cell_type": "markdown",
      "metadata": {
        "id": "view-in-github",
        "colab_type": "text"
      },
      "source": [
        "<a href=\"https://colab.research.google.com/github/Mikhelmariya/ML/blob/main/WordNet_Natural_Language_Processing_with_python_and_NLTK.ipynb\" target=\"_parent\"><img src=\"https://colab.research.google.com/assets/colab-badge.svg\" alt=\"Open In Colab\"/></a>"
      ]
    },
    {
      "cell_type": "code",
      "source": [
        "import nltk #importing nltk \n",
        "nltk.download('wordnet') #Downloading wordnet package for using its functions\n",
        "nltk.download('omw-1.4') #omw is Open Multilingual Wordnet.It is used for accesing nltk_data\n",
        "from nltk.corpus import wordnet #importing wordnet to our editor\n"
      ],
      "metadata": {
        "colab": {
          "base_uri": "https://localhost:8080/"
        },
        "id": "YvXxCjUUKhue",
        "outputId": "03c06d21-db63-4c35-a85f-a78316c67987"
      },
      "execution_count": 17,
      "outputs": [
        {
          "output_type": "stream",
          "name": "stderr",
          "text": [
            "[nltk_data] Downloading package wordnet to /root/nltk_data...\n",
            "[nltk_data]   Package wordnet is already up-to-date!\n",
            "[nltk_data] Downloading package omw-1.4 to /root/nltk_data...\n"
          ]
        }
      ]
    },
    {
      "cell_type": "code",
      "source": [
        "syns = wordnet.synsets(\"program\") #this groups all words that are  synonyms to the word \"program\"\n",
        "print(syns[0].name()) #prints first synonym\n",
        "print(syns) #prints all synonyms"
      ],
      "metadata": {
        "colab": {
          "base_uri": "https://localhost:8080/"
        },
        "id": "l8sfoWcoK4GJ",
        "outputId": "256091f1-efe6-4d12-dcd2-9450247d2570"
      },
      "execution_count": 22,
      "outputs": [
        {
          "output_type": "stream",
          "name": "stdout",
          "text": [
            "plan.n.01\n",
            "[Synset('plan.n.01'), Synset('program.n.02'), Synset('broadcast.n.02'), Synset('platform.n.02'), Synset('program.n.05'), Synset('course_of_study.n.01'), Synset('program.n.07'), Synset('program.n.08'), Synset('program.v.01'), Synset('program.v.02')]\n"
          ]
        }
      ]
    },
    {
      "cell_type": "code",
      "source": [
        "print(syns[0].lemmas()[0].name()) #we are taking first lemma of syns[0] i.e plan here\n"
      ],
      "metadata": {
        "colab": {
          "base_uri": "https://localhost:8080/"
        },
        "id": "rdQhuO3kZ0aG",
        "outputId": "97003e4c-6e3e-4c74-a76b-f7552ac2f85a"
      },
      "execution_count": 46,
      "outputs": [
        {
          "output_type": "stream",
          "name": "stdout",
          "text": [
            "program\n"
          ]
        }
      ]
    },
    {
      "cell_type": "code",
      "source": [
        "print(syns[0].definition()) #finding the definition of the word \"plan\" "
      ],
      "metadata": {
        "colab": {
          "base_uri": "https://localhost:8080/"
        },
        "id": "Sx9xB1VLQ7UZ",
        "outputId": "533f71dd-9059-4a22-90c8-27f68e22cdd0"
      },
      "execution_count": 47,
      "outputs": [
        {
          "output_type": "stream",
          "name": "stdout",
          "text": [
            "a series of steps to be carried out or goals to be accomplished\n"
          ]
        }
      ]
    },
    {
      "cell_type": "code",
      "source": [
        "print(syns[0].examples()) #finding examples that use the word \"plan\""
      ],
      "metadata": {
        "colab": {
          "base_uri": "https://localhost:8080/"
        },
        "id": "df0aN9ZDRENf",
        "outputId": "694c76d4-8ba5-4691-ca89-1e8dbf6cf747"
      },
      "execution_count": 24,
      "outputs": [
        {
          "output_type": "stream",
          "name": "stdout",
          "text": [
            "['they drew up a six-step plan', 'they discussed plans for a new bond issue']\n"
          ]
        }
      ]
    },
    {
      "cell_type": "code",
      "source": [
        "#creating arrays\n",
        "synonyms = []\n",
        "antonyms = []\n",
        "for i in wordnet.synsets(\"good\"):  # iterating variable i over synset of \"good\"\n",
        "    for l in i.lemmas(): #to take just the word excluding other parameters eg in plan.n.01 we take plan only.\"l\" for lemmas\n",
        "        print(l)\n",
        "        synonyms.append(l.name())\n",
        "        if l.antonyms():\n",
        "            antonyms.append(l.antonyms()[0].name())\n",
        "\n",
        "print(synonyms)\n",
        "print(antonyms)"
      ],
      "metadata": {
        "colab": {
          "base_uri": "https://localhost:8080/"
        },
        "id": "FTp7ciseUSO_",
        "outputId": "de866823-6fbc-42ac-8d1f-325c8b5a1cb1"
      },
      "execution_count": 50,
      "outputs": [
        {
          "output_type": "stream",
          "name": "stdout",
          "text": [
            "Lemma('good.n.01.good')\n",
            "Lemma('good.n.02.good')\n",
            "Lemma('good.n.02.goodness')\n",
            "Lemma('good.n.03.good')\n",
            "Lemma('good.n.03.goodness')\n",
            "Lemma('commodity.n.01.commodity')\n",
            "Lemma('commodity.n.01.trade_good')\n",
            "Lemma('commodity.n.01.good')\n",
            "Lemma('good.a.01.good')\n",
            "Lemma('full.s.06.full')\n",
            "Lemma('full.s.06.good')\n",
            "Lemma('good.a.03.good')\n",
            "Lemma('estimable.s.02.estimable')\n",
            "Lemma('estimable.s.02.good')\n",
            "Lemma('estimable.s.02.honorable')\n",
            "Lemma('estimable.s.02.respectable')\n",
            "Lemma('beneficial.s.01.beneficial')\n",
            "Lemma('beneficial.s.01.good')\n",
            "Lemma('good.s.06.good')\n",
            "Lemma('good.s.07.good')\n",
            "Lemma('good.s.07.just')\n",
            "Lemma('good.s.07.upright')\n",
            "Lemma('adept.s.01.adept')\n",
            "Lemma('adept.s.01.expert')\n",
            "Lemma('adept.s.01.good')\n",
            "Lemma('adept.s.01.practiced')\n",
            "Lemma('adept.s.01.proficient')\n",
            "Lemma('adept.s.01.skillful')\n",
            "Lemma('adept.s.01.skilful')\n",
            "Lemma('good.s.09.good')\n",
            "Lemma('dear.s.02.dear')\n",
            "Lemma('dear.s.02.good')\n",
            "Lemma('dear.s.02.near')\n",
            "Lemma('dependable.s.04.dependable')\n",
            "Lemma('dependable.s.04.good')\n",
            "Lemma('dependable.s.04.safe')\n",
            "Lemma('dependable.s.04.secure')\n",
            "Lemma('good.s.12.good')\n",
            "Lemma('good.s.12.right')\n",
            "Lemma('good.s.12.ripe')\n",
            "Lemma('good.s.13.good')\n",
            "Lemma('good.s.13.well')\n",
            "Lemma('effective.s.04.effective')\n",
            "Lemma('effective.s.04.good')\n",
            "Lemma('effective.s.04.in_effect')\n",
            "Lemma('effective.s.04.in_force')\n",
            "Lemma('good.s.15.good')\n",
            "Lemma('good.s.16.good')\n",
            "Lemma('good.s.16.serious')\n",
            "Lemma('good.s.17.good')\n",
            "Lemma('good.s.17.sound')\n",
            "Lemma('good.s.18.good')\n",
            "Lemma('good.s.18.salutary')\n",
            "Lemma('good.s.19.good')\n",
            "Lemma('good.s.19.honest')\n",
            "Lemma('good.s.20.good')\n",
            "Lemma('good.s.20.undecomposed')\n",
            "Lemma('good.s.20.unspoiled')\n",
            "Lemma('good.s.20.unspoilt')\n",
            "Lemma('good.s.21.good')\n",
            "Lemma('well.r.01.well')\n",
            "Lemma('well.r.01.good')\n",
            "Lemma('thoroughly.r.02.thoroughly')\n",
            "Lemma('thoroughly.r.02.soundly')\n",
            "Lemma('thoroughly.r.02.good')\n",
            "['good', 'good', 'goodness', 'good', 'goodness', 'commodity', 'trade_good', 'good', 'good', 'full', 'good', 'good', 'estimable', 'good', 'honorable', 'respectable', 'beneficial', 'good', 'good', 'good', 'just', 'upright', 'adept', 'expert', 'good', 'practiced', 'proficient', 'skillful', 'skilful', 'good', 'dear', 'good', 'near', 'dependable', 'good', 'safe', 'secure', 'good', 'right', 'ripe', 'good', 'well', 'effective', 'good', 'in_effect', 'in_force', 'good', 'good', 'serious', 'good', 'sound', 'good', 'salutary', 'good', 'honest', 'good', 'undecomposed', 'unspoiled', 'unspoilt', 'good', 'well', 'good', 'thoroughly', 'soundly', 'good']\n",
            "['evil', 'evilness', 'bad', 'badness', 'bad', 'evil', 'ill']\n"
          ]
        }
      ]
    },
    {
      "cell_type": "code",
      "source": [
        "#comparing similarity between ship and boat\n",
        "w1 = wordnet.synset('ship.n.01')\n",
        "w2 = wordnet.synset('boat.n.01')\n",
        "print(w1.wup_similarity(w2))"
      ],
      "metadata": {
        "colab": {
          "base_uri": "https://localhost:8080/"
        },
        "id": "aJW-J6xaWGFt",
        "outputId": "0efc62c3-cec2-490b-c085-f9bb6b91743b"
      },
      "execution_count": 32,
      "outputs": [
        {
          "output_type": "stream",
          "name": "stdout",
          "text": [
            "0.9090909090909091\n"
          ]
        }
      ]
    },
    {
      "cell_type": "code",
      "source": [
        "#comparing similarity between ship and cat\n",
        "w1 = wordnet.synset('ship.n.01')\n",
        "w2 = wordnet.synset('cat.n.01')\n",
        "print(w1.wup_similarity(w2))"
      ],
      "metadata": {
        "colab": {
          "base_uri": "https://localhost:8080/"
        },
        "id": "bMwxQKGeWaP_",
        "outputId": "4e5bbf52-ceca-4988-88f0-7dd4963728ea"
      },
      "execution_count": 35,
      "outputs": [
        {
          "output_type": "stream",
          "name": "stdout",
          "text": [
            "0.32\n"
          ]
        }
      ]
    },
    {
      "cell_type": "code",
      "source": [
        "#comparing similarity between ship and car\n",
        "w1 = wordnet.synset('ship.n.01')\n",
        "w2 = wordnet.synset('car.n.01')\n",
        "print(w1.wup_similarity(w2))"
      ],
      "metadata": {
        "colab": {
          "base_uri": "https://localhost:8080/"
        },
        "id": "x8GZGYIwWfjG",
        "outputId": "f94be538-0ae2-4ac9-e15d-20b41519757b"
      },
      "execution_count": 36,
      "outputs": [
        {
          "output_type": "stream",
          "name": "stdout",
          "text": [
            "0.6956521739130435\n"
          ]
        }
      ]
    }
  ]
}