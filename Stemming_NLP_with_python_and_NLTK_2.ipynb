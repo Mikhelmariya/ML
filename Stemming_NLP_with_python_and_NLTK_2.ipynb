{
  "nbformat": 4,
  "nbformat_minor": 0,
  "metadata": {
    "colab": {
      "provenance": [],
      "collapsed_sections": [],
      "authorship_tag": "ABX9TyNTTPWOIv5UoIbEtF97Lxs/",
      "include_colab_link": true
    },
    "kernelspec": {
      "name": "python3",
      "display_name": "Python 3"
    },
    "language_info": {
      "name": "python"
    }
  },
  "cells": [
    {
      "cell_type": "markdown",
      "metadata": {
        "id": "view-in-github",
        "colab_type": "text"
      },
      "source": [
        "<a href=\"https://colab.research.google.com/github/Mikhelmariya/ML/blob/main/Stemming_NLP_with_python_and_NLTK_2.ipynb\" target=\"_parent\"><img src=\"https://colab.research.google.com/assets/colab-badge.svg\" alt=\"Open In Colab\"/></a>"
      ]
    },
    {
      "cell_type": "code",
      "source": [
        "#import nltk\n",
        "import nltk\n"
      ],
      "metadata": {
        "id": "sfyy2l2ptgPZ"
      },
      "execution_count": 3,
      "outputs": []
    },
    {
      "cell_type": "code",
      "source": [
        "# download the package stemming from nltk\n",
        "nltk.download('Stemming')"
      ],
      "metadata": {
        "colab": {
          "base_uri": "https://localhost:8080/"
        },
        "id": "nOouZRh5r_vj",
        "outputId": "ac76271e-86b8-4ed2-8ee8-74d6c34c9ab8"
      },
      "execution_count": 2,
      "outputs": [
        {
          "output_type": "stream",
          "name": "stderr",
          "text": [
            "[nltk_data] Error loading Stemming: Package 'Stemming' not found in\n",
            "[nltk_data]     index\n"
          ]
        },
        {
          "output_type": "execute_result",
          "data": {
            "text/plain": [
              "False"
            ]
          },
          "metadata": {},
          "execution_count": 2
        }
      ]
    },
    {
      "cell_type": "code",
      "source": [
        "#using porter stemmer algorithm from nltk.stem package\n",
        "from nltk.stem import PorterStemmer\n",
        "ps = PorterStemmer()\n"
      ],
      "metadata": {
        "id": "lE1_8EsWyhgI"
      },
      "execution_count": 11,
      "outputs": []
    },
    {
      "cell_type": "code",
      "source": [
        "# Working of PorterStemmer Algorithm .\n",
        "# Here 'eating'and 'eat's'  is converted  to eat after stemming\n",
        "example_words=['eats','eat','eating']\n",
        "for w in example_words:\n",
        "    print(ps.stem(w))"
      ],
      "metadata": {
        "colab": {
          "base_uri": "https://localhost:8080/"
        },
        "id": "TbzimkqFytP0",
        "outputId": "54021105-3202-4b6f-8bdd-abfa1540d68e"
      },
      "execution_count": 12,
      "outputs": [
        {
          "output_type": "stream",
          "name": "stdout",
          "text": [
            "eat\n",
            "eat\n",
            "eat\n"
          ]
        }
      ]
    },
    {
      "cell_type": "code",
      "source": [
        "# Stemming a typical senetence\n",
        "sentence = \"I can eat apple.She is eating apple.He eats apple\"\n",
        "#import word tokenizer\n",
        "nltk.download('punkt')\n",
        "from nltk.tokenize import word_tokenize\n",
        "#tokenizing sentence\n",
        "words=word_tokenize(sentence)\n",
        "print(words)\n",
        "\n",
        "\n"
      ],
      "metadata": {
        "colab": {
          "base_uri": "https://localhost:8080/"
        },
        "id": "MIwg8oTGZdFR",
        "outputId": "ae457b1e-5051-4cfb-eb6e-d9a63d077d0c"
      },
      "execution_count": 16,
      "outputs": [
        {
          "output_type": "stream",
          "name": "stdout",
          "text": [
            "['I', 'can', 'eat', 'apple.She', 'is', 'eating', 'apple.He', 'eats', 'apple']\n"
          ]
        },
        {
          "output_type": "stream",
          "name": "stderr",
          "text": [
            "[nltk_data] Downloading package punkt to /root/nltk_data...\n",
            "[nltk_data]   Package punkt is already up-to-date!\n"
          ]
        }
      ]
    },
    {
      "cell_type": "code",
      "source": [
        "for w in words:\n",
        "  print(ps.stem(w))"
      ],
      "metadata": {
        "colab": {
          "base_uri": "https://localhost:8080/"
        },
        "id": "RTQoM1_-bCXa",
        "outputId": "400a0da8-9404-4735-85fc-1ef6ce5a01b3"
      },
      "execution_count": 17,
      "outputs": [
        {
          "output_type": "stream",
          "name": "stdout",
          "text": [
            "i\n",
            "can\n",
            "eat\n",
            "apple.sh\n",
            "is\n",
            "eat\n",
            "apple.h\n",
            "eat\n",
            "appl\n"
          ]
        }
      ]
    }
  ]
}