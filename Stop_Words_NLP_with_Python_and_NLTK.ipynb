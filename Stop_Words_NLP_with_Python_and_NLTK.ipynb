{
  "nbformat": 4,
  "nbformat_minor": 0,
  "metadata": {
    "colab": {
      "provenance": [],
      "authorship_tag": "ABX9TyPEUL2d+OJ/ASRcmY7x1kjp",
      "include_colab_link": true
    },
    "kernelspec": {
      "name": "python3",
      "display_name": "Python 3"
    },
    "language_info": {
      "name": "python"
    }
  },
  "cells": [
    {
      "cell_type": "markdown",
      "metadata": {
        "id": "view-in-github",
        "colab_type": "text"
      },
      "source": [
        "<a href=\"https://colab.research.google.com/github/Mikhelmariya/ML/blob/main/Stop_Words_NLP_with_Python_and_NLTK.ipynb\" target=\"_parent\"><img src=\"https://colab.research.google.com/assets/colab-badge.svg\" alt=\"Open In Colab\"/></a>"
      ]
    },
    {
      "cell_type": "code",
      "source": [
        " import nltk"
      ],
      "metadata": {
        "id": "48g52J6RI4hi"
      },
      "execution_count": 12,
      "outputs": []
    },
    {
      "cell_type": "code",
      "source": [
        "#downloading tokenizer from nltk module\n",
        "nltk.download('punkt')"
      ],
      "metadata": {
        "colab": {
          "base_uri": "https://localhost:8080/"
        },
        "id": "97WdHYyTKvkX",
        "outputId": "6a9b4391-ca84-4318-808e-d97bc935fce8"
      },
      "execution_count": 13,
      "outputs": [
        {
          "output_type": "stream",
          "name": "stderr",
          "text": [
            "[nltk_data] Downloading package punkt to /root/nltk_data...\n",
            "[nltk_data]   Package punkt is already up-to-date!\n"
          ]
        },
        {
          "output_type": "execute_result",
          "data": {
            "text/plain": [
              "True"
            ]
          },
          "metadata": {},
          "execution_count": 13
        }
      ]
    },
    {
      "cell_type": "code",
      "source": [
        "#downloading stopwords \n",
        "nltk.download(\"stopwords\")\n",
        "#importing stopwords and word tokenizer from nltk module\n",
        "from nltk.corpus import stopwords\n"
      ],
      "metadata": {
        "colab": {
          "base_uri": "https://localhost:8080/"
        },
        "id": "IbRqLhbikZnv",
        "outputId": "d2a28d64-d1ec-4eb4-a6b0-b2035c44a7f9"
      },
      "execution_count": 3,
      "outputs": [
        {
          "output_type": "stream",
          "name": "stderr",
          "text": [
            "[nltk_data] Downloading package stopwords to /root/nltk_data...\n",
            "[nltk_data]   Unzipping corpora/stopwords.zip.\n"
          ]
        }
      ]
    },
    {
      "cell_type": "code",
      "source": [
        "#initializing an example sentence\n",
        "example_sentence=\"This is an example to show stopwords. Natural language should be preprocessed for applications\"\n"
      ],
      "metadata": {
        "id": "VHYjAloulBjn"
      },
      "execution_count": 4,
      "outputs": []
    },
    {
      "cell_type": "code",
      "source": [
        "#importing word tokenizers\n",
        "from nltk.tokenize import  word_tokenize\n"
      ],
      "metadata": {
        "id": "jLdFGE60NH6t"
      },
      "execution_count": 6,
      "outputs": []
    },
    {
      "cell_type": "code",
      "source": [
        "#word tokenize the given ex_sentence\n",
        "tokenized_text=word_tokenize(example_sentence)\n",
        "print(tokenized_text)"
      ],
      "metadata": {
        "colab": {
          "base_uri": "https://localhost:8080/"
        },
        "id": "09jxVzY4p_HT",
        "outputId": "52074a18-fbaf-48e6-8e0e-6fd727b5f4fe"
      },
      "execution_count": 7,
      "outputs": [
        {
          "output_type": "stream",
          "name": "stdout",
          "text": [
            "['This', 'is', 'an', 'example', 'to', 'show', 'stopwords', '.', 'Natural', 'language', 'should', 'be', 'preprocessed', 'for', 'applications']\n"
          ]
        }
      ]
    },
    {
      "cell_type": "code",
      "source": [
        "#Output shows various stopwords in english language.\n",
        "stop_words = set(stopwords.words('english'))\n",
        "print(stop_words)\n"
      ],
      "metadata": {
        "colab": {
          "base_uri": "https://localhost:8080/"
        },
        "id": "5O0bvV5Ip1ws",
        "outputId": "1c8ecaaa-f398-40c4-d0be-e1a701ecbc9f"
      },
      "execution_count": 9,
      "outputs": [
        {
          "output_type": "stream",
          "name": "stdout",
          "text": [
            "{'own', 'doesn', \"didn't\", 'if', \"doesn't\", 'you', 'and', \"she's\", 'so', 'are', 'while', 'needn', 'up', \"mustn't\", 'then', 'ourselves', 'yourselves', 'this', 'itself', 'a', 're', 'they', 'doing', 'over', 'few', 'there', 'd', 'or', 'having', 'mightn', 'mustn', 'had', \"don't\", 'through', 'why', 'nor', 'he', 'wouldn', 'because', 'when', \"hasn't\", 'that', 'same', 'didn', 'its', 'who', 'these', \"aren't\", 'at', \"hadn't\", 'such', 'both', 'which', 'him', 'herself', 'too', 'is', 't', 'by', 'i', 'theirs', 'until', 'very', 'it', \"you'd\", 'isn', 'most', 'whom', 'than', 'down', 'any', 's', 'ain', 'has', 'just', 'during', 'about', 'will', 'again', 'into', 'further', 'against', 'my', 'between', 'in', 'won', 'not', 'can', 'themselves', 'am', 'their', 'above', 'for', 'all', 'your', 'hadn', \"shouldn't\", 'what', \"wasn't\", 'does', \"wouldn't\", 'did', 'his', 'shouldn', \"won't\", 'some', 'yourself', 'to', 'be', 'ours', 'himself', 'only', 'we', 'aren', 'with', 'where', 'should', 'don', \"isn't\", 'have', \"mightn't\", 'our', 'been', 'being', 'from', 'those', 'ma', 'on', 'of', \"weren't\", 'under', 'wasn', 'me', \"shan't\", 'more', 'how', 'her', 'the', 'them', 'haven', \"couldn't\", 'll', 'couldn', 've', 'after', 'no', \"should've\", 'here', \"it's\", 'an', 'shan', 'once', \"you've\", 'hers', 'myself', 'was', 'before', 'y', 'each', 'she', \"needn't\", 'other', 'now', 'off', 'as', \"that'll\", \"haven't\", 'hasn', 'yours', 'below', 'm', 'but', 'o', 'do', 'were', 'out', \"you'll\", 'weren', \"you're\"}\n"
          ]
        }
      ]
    },
    {
      "cell_type": "code",
      "source": [
        "#we use stop_words list to filter stopwords from the example_sentence\n",
        "#creating an array to store filtered sentence\n",
        "filtered_sentence = []\n",
        "# looping over tokenized_text   to remove  stopwords.Let w be the word in tokenized text.\n",
        "#If \"w \" not in stop_words list,then append or add it to the array created\n",
        "for w in tokenized_text:\n",
        "  if w not in stop_words:\n",
        "    filtered_sentence.append(w)\n"
      ],
      "metadata": {
        "id": "bZi7zoDBt_65"
      },
      "execution_count": 10,
      "outputs": []
    },
    {
      "cell_type": "code",
      "source": [
        "print(tokenized_text)\n",
        "print(filtered_sentence)"
      ],
      "metadata": {
        "colab": {
          "base_uri": "https://localhost:8080/"
        },
        "id": "igYddjeFvvzk",
        "outputId": "4aadd86b-ab48-41c7-ff02-8657721163f3"
      },
      "execution_count": 11,
      "outputs": [
        {
          "output_type": "stream",
          "name": "stdout",
          "text": [
            "['This', 'is', 'an', 'example', 'to', 'show', 'stopwords', '.', 'Natural', 'language', 'should', 'be', 'preprocessed', 'for', 'applications']\n",
            "['This', 'example', 'show', 'stopwords', '.', 'Natural', 'language', 'preprocessed', 'applications']\n"
          ]
        }
      ]
    }
  ]
}