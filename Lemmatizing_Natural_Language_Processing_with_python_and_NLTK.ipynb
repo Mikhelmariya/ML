{
  "nbformat": 4,
  "nbformat_minor": 0,
  "metadata": {
    "colab": {
      "provenance": [],
      "collapsed_sections": [],
      "authorship_tag": "ABX9TyPRlkrstkAm0J/r1ybtzJe/",
      "include_colab_link": true
    },
    "kernelspec": {
      "name": "python3",
      "display_name": "Python 3"
    },
    "language_info": {
      "name": "python"
    }
  },
  "cells": [
    {
      "cell_type": "markdown",
      "metadata": {
        "id": "view-in-github",
        "colab_type": "text"
      },
      "source": [
        "<a href=\"https://colab.research.google.com/github/Mikhelmariya/ML/blob/main/Lemmatizing_Natural_Language_Processing_with_python_and_NLTK.ipynb\" target=\"_parent\"><img src=\"https://colab.research.google.com/assets/colab-badge.svg\" alt=\"Open In Colab\"/></a>"
      ]
    },
    {
      "cell_type": "code",
      "execution_count": 14,
      "metadata": {
        "colab": {
          "base_uri": "https://localhost:8080/"
        },
        "id": "8cPZmoLnC6ac",
        "outputId": "ebbcb536-e649-4363-c0ed-467fd1944712"
      },
      "outputs": [
        {
          "output_type": "stream",
          "name": "stderr",
          "text": [
            "[nltk_data] Downloading package wordnet to /root/nltk_data...\n",
            "[nltk_data]   Package wordnet is already up-to-date!\n",
            "[nltk_data] Downloading package omw-1.4 to /root/nltk_data...\n",
            "[nltk_data]   Package omw-1.4 is already up-to-date!\n"
          ]
        }
      ],
      "source": [
        "import nltk\n",
        "nltk.download('wordnet') # for using WordNetLemmatizer from nltk module\n",
        "nltk.download('omw-1.4') # Download this to avoid look up error\n",
        "from nltk.stem import WordNetLemmatizer #importing WordNetLemmatizer\n",
        "lemmatizer_variable = WordNetLemmatizer() # lemmatizer_variable is a variable that acts like an object  to call the function lemmatize"
      ]
    },
    {
      "cell_type": "code",
      "source": [
        "#using lemmatize() for different words\n",
        "print(lemmatizer_variable.lemmatize(\"cacti\"))   #calling lemmatize() using object like variable, pos parameter is noun which is the default value"
      ],
      "metadata": {
        "colab": {
          "base_uri": "https://localhost:8080/"
        },
        "id": "rQY_B_nUHpTD",
        "outputId": "b52fe4e6-91c8-49bc-c02c-2ae05f78ff1e"
      },
      "execution_count": 10,
      "outputs": [
        {
          "output_type": "stream",
          "name": "stdout",
          "text": [
            "cactus\n"
          ]
        }
      ]
    },
    {
      "cell_type": "code",
      "source": [
        "# giving  part of speech parameter (pos='')\n",
        "#pos=\"a\" gives adjective of the given word\n",
        "# pos=\"v\" gives verb of the given word\n",
        "print(lemmatizer_variable.lemmatize(\"better\",\"a\")) #calling lemmatize() using object like variable with pos=\"a\""
      ],
      "metadata": {
        "colab": {
          "base_uri": "https://localhost:8080/"
        },
        "id": "CT4jU6ldIKn4",
        "outputId": "770a5d82-03ce-4587-8ee3-7cbc045d6c1f"
      },
      "execution_count": 11,
      "outputs": [
        {
          "output_type": "stream",
          "name": "stdout",
          "text": [
            "good\n"
          ]
        }
      ]
    },
    {
      "cell_type": "code",
      "source": [
        "print(lemmatizer_variable.lemmatize(\"run\")) #calling lemmatize() using object like variable.\n",
        "print(lemmatizer_variable.lemmatize(\"run\",pos=\"v\")) #calling lemmatize() using object like variable."
      ],
      "metadata": {
        "colab": {
          "base_uri": "https://localhost:8080/"
        },
        "id": "LmVn_vo0I5Eq",
        "outputId": "4ddc3a5a-26db-4233-84d8-ecd136a27d7c"
      },
      "execution_count": 13,
      "outputs": [
        {
          "output_type": "stream",
          "name": "stdout",
          "text": [
            "run\n",
            "run\n"
          ]
        }
      ]
    },
    {
      "cell_type": "code",
      "source": [
        "#few more examples\n",
        "print(lemmatizer_variable.lemmatize(\"best\", pos=\"a\"))\n",
        "print(lemmatizer_variable.lemmatize(\"cats\"))\n",
        "print(lemmatizer_variable.lemmatize(\"geese\"))\n",
        "print(lemmatizer_variable.lemmatize(\"rocks\"))"
      ],
      "metadata": {
        "colab": {
          "base_uri": "https://localhost:8080/"
        },
        "id": "x39QE0HbLfA1",
        "outputId": "2e7755a6-f936-40fe-965b-9bb13ddb77db"
      },
      "execution_count": 17,
      "outputs": [
        {
          "output_type": "stream",
          "name": "stdout",
          "text": [
            "best\n",
            "cat\n",
            "goose\n",
            "rock\n"
          ]
        }
      ]
    }
  ]
}